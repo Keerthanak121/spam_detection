import pandas as pd
from sklearn.model_selection import train_test_split
from sklearn.feature_extraction.text import CountVectorizer
from sklearn.naive_bayes import MultinomialNB
from sklearn.metrics import accuracy_score, classification_report
import chardet

def get_encoding(filename):
    with open(filename, 'rb') as file:
        result = chardet.detect(file.read())
        return result['encoding']

file_encoding = get_encoding('/content/spam.csv')  # Replace with your file path
data = pd.read_csv('/content/spam.csv', encoding=file_encoding)
X = data['v2']
y = data['v1']
# Split the data into training and testing sets
X_train, X_test, y_train, y_test = train_test_split(X, y, test_size=0.2, random_state=42)
# Convert text data to numerical features using CountVectorizer
vectorizer = CountVectorizer()
X_train_vectorized = vectorizer.fit_transform(X_train)
X_test_vectorized = vectorizer.transform(X_test)
# Initialize and train the Naive Bayes model
model = MultinomialNB()
model.fit(X_train_vectorized, y_train)
y_pred = model.predict(X_test_vectorized)

# Evaluate the model
accuracy = accuracy_score(y_test, y_pred)
report = classification_report(y_test, y_pred, target_names=['non-spam', 'spam'])

print(f"Accuracy: {accuracy:.2f}")
print(report)
